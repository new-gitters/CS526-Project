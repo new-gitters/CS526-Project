{
 "cells": [
  {
   "cell_type": "markdown",
   "metadata": {},
   "source": [
    "# Loading Modules"
   ]
  },
  {
   "cell_type": "code",
   "execution_count": 1,
   "metadata": {},
   "outputs": [
    {
     "name": "stdout",
     "output_type": "stream",
     "text": [
      "        STATE  FIRE_YEAR   STAT_CAUSE_DESCR FIRE_SIZE_CLASS  MONTH  \\\n",
      "0          CA       2005      Miscellaneous               A      2   \n",
      "1          CA       2004          Lightning               A      5   \n",
      "2          CA       2004     Debris Burning               A      5   \n",
      "3          CA       2004          Lightning               A      6   \n",
      "4          CA       2004          Lightning               A      6   \n",
      "...       ...        ...                ...             ...    ...   \n",
      "1880460    CA       2015  Missing/Undefined               A      9   \n",
      "1880461    CA       2015      Miscellaneous               A     10   \n",
      "1880462    CA       2015  Missing/Undefined               A      5   \n",
      "1880463    CA       2015  Missing/Undefined               B     10   \n",
      "1880464    CA       2015      Miscellaneous               A      3   \n",
      "\n",
      "                 Arson               category  \n",
      "0        Non-Malicious  Miscellaneous/Missing  \n",
      "1        Non-Malicious                Natural  \n",
      "2        Non-Malicious             Accidental  \n",
      "3        Non-Malicious                Natural  \n",
      "4        Non-Malicious                Natural  \n",
      "...                ...                    ...  \n",
      "1880460  Non-Malicious  Miscellaneous/Missing  \n",
      "1880461  Non-Malicious  Miscellaneous/Missing  \n",
      "1880462  Non-Malicious  Miscellaneous/Missing  \n",
      "1880463  Non-Malicious  Miscellaneous/Missing  \n",
      "1880464  Non-Malicious  Miscellaneous/Missing  \n",
      "\n",
      "[1880465 rows x 7 columns]\n"
     ]
    }
   ],
   "source": [
    "import sqlite3\n",
    "import pandas as pd\n",
    "import numpy as np\n",
    "import matplotlib.pyplot as plt\n",
    "import sklearn\n",
    "from sklearn import tree, preprocessing\n",
    "from sklearn.ensemble import RandomForestClassifier\n",
    "from sklearn.model_selection import train_test_split\n",
    "from sklearn.tree import DecisionTreeClassifier\n",
    "from sklearn.neighbors import KNeighborsClassifier\n",
    "from sklearn.naive_bayes import GaussianNB\n",
    "from sklearn.linear_model import LinearRegression\n",
    "import pickle\n",
    "from sklearn.metrics import confusion_matrix\n",
    "import plotly.express as px\n",
    "import dash_table"
   ]
  },
  {
   "cell_type": "code",
   "execution_count": 2,
   "metadata": {},
   "outputs": [],
   "source": [
    "def insert_colon(x):\n",
    "    x = x[0:2] + \":\" + x[2:]\n",
    "    return x"
   ]
  },
  {
   "cell_type": "code",
   "execution_count": 65,
   "metadata": {},
   "outputs": [],
   "source": [
    "# pickle_df = pd.read_pickle(\"wildfire_df.p\")"
   ]
  },
  {
   "cell_type": "code",
   "execution_count": 66,
   "metadata": {},
   "outputs": [
    {
     "name": "stdout",
     "output_type": "stream",
     "text": [
      "        STATE  FIRE_YEAR   STAT_CAUSE_DESCR FIRE_SIZE_CLASS  MONTH  \\\n",
      "0          CA       2005      Miscellaneous               A      2   \n",
      "1          CA       2004          Lightning               A      5   \n",
      "2          CA       2004     Debris Burning               A      5   \n",
      "3          CA       2004          Lightning               A      6   \n",
      "4          CA       2004          Lightning               A      6   \n",
      "...       ...        ...                ...             ...    ...   \n",
      "1880460    CA       2015  Missing/Undefined               A      9   \n",
      "1880461    CA       2015      Miscellaneous               A     10   \n",
      "1880462    CA       2015  Missing/Undefined               A      5   \n",
      "1880463    CA       2015  Missing/Undefined               B     10   \n",
      "1880464    CA       2015      Miscellaneous               A      3   \n",
      "\n",
      "                 Arson               category  \n",
      "0        Non-Malicious  Miscellaneous/Missing  \n",
      "1        Non-Malicious                Natural  \n",
      "2        Non-Malicious             Accidental  \n",
      "3        Non-Malicious                Natural  \n",
      "4        Non-Malicious                Natural  \n",
      "...                ...                    ...  \n",
      "1880460  Non-Malicious  Miscellaneous/Missing  \n",
      "1880461  Non-Malicious  Miscellaneous/Missing  \n",
      "1880462  Non-Malicious  Miscellaneous/Missing  \n",
      "1880463  Non-Malicious  Miscellaneous/Missing  \n",
      "1880464  Non-Malicious  Miscellaneous/Missing  \n",
      "\n",
      "[1880465 rows x 7 columns]\n"
     ]
    }
   ],
   "source": [
    "# print(pickle_df)"
   ]
  },
  {
   "cell_type": "code",
   "execution_count": 5,
   "metadata": {},
   "outputs": [],
   "source": [
    "# def arson_column(cause):\n",
    "#     if cause == \"Arson\":\n",
    "#         return \"Malicious\"\n",
    "#     else:\n",
    "#         return \"Non-Malicious\""
   ]
  },
  {
   "cell_type": "code",
   "execution_count": 7,
   "metadata": {},
   "outputs": [],
   "source": [
    "# def categorize(cause):\n",
    "#     others = ['Structure','Fireworks','Powerline','Railroad','Smoking',\\\n",
    "#                   'Children','Campfire','Equipment Use','Debris Burning']\n",
    "#     if cause == 'Lightning':\n",
    "#         return \"Natural\"\n",
    "#     elif cause in others:\n",
    "#         return \"Accidental\"\n",
    "#     elif cause == 'Arson':\n",
    "#         return \"Malicious\"\n",
    "#     else:\n",
    "#         return \"Miscellaneous/Missing\""
   ]
  },
  {
   "cell_type": "code",
   "execution_count": 9,
   "metadata": {},
   "outputs": [],
   "source": [
    "# fig = px.sunburst(\n",
    "#     data_frame=df,\n",
    "#     path=['Arson', 'category', 'STAT_CAUSE_DESCR'],\n",
    "#     color = 'category',\n",
    "#     maxdepth=-1\n",
    "# )\n",
    "# fig.show()"
   ]
  },
  {
   "cell_type": "markdown",
   "metadata": {},
   "source": [
    "# Basic Dataframe Setup"
   ]
  },
  {
   "cell_type": "code",
   "execution_count": 11,
   "metadata": {},
   "outputs": [],
   "source": [
    "# set up data frame\n",
    "con = sqlite3.connect(\"wildfire_data.sqlite\")\n",
    "df = pd.read_sql_query('SELECT STATE, FIRE_YEAR, STAT_CAUSE_DESCR, FIRE_SIZE_CLASS, \\\n",
    "                       FIRE_SIZE, CONT_DATE, CONT_TIME, DISCOVERY_DATE, LATITUDE, LONGITUDE, \\\n",
    "                       DISCOVERY_TIME from Fires', con)\n",
    "\n",
    "# mask = df['DISCOVERY_TIME'].isna() | df['DISCOVERY_DATE'].isna() | df['CONT_TIME'].isna() | df['CONT_DATE'].isna()\n",
    "\n",
    "# df_null = df[mask]\n",
    "\n",
    "df = df.dropna(axis=0, subset = ['DISCOVERY_TIME', 'DISCOVERY_DATE', 'CONT_TIME', 'CONT_DATE'])\n",
    "\n",
    "# Convert Julian date to date\n",
    "df['DISCOVERY_DATE'] = pd.to_datetime(df['DISCOVERY_DATE'] - pd.Timestamp(0).to_julian_date(), unit='D')\n",
    "df['CONT_DATE'] = pd.to_datetime(df['CONT_DATE'] - pd.Timestamp(0).to_julian_date(), unit='D')\n",
    "\n",
    "# Extract Month and Day from date\n",
    "df['MONTH'] = pd.DatetimeIndex(df['DISCOVERY_DATE']).month\n",
    "df['DAY'] = df['DISCOVERY_DATE'].dt.dayofweek\n",
    "\n",
    "# Convert time to datetime\n",
    "# df['DISCOVERY_TIME'] = pd.to_datetime(df.DISCOVERY_TIME, format='%H%M').dt.time\n",
    "# df['CONT_TIME'] = pd.to_datetime(df.CONT_TIME, format='%H%M').dt.time\n",
    "df['DISCOVERY_TIME'] = df['DISCOVERY_TIME'].apply(lambda x: insert_colon(str(x)))\n",
    "df['CONT_TIME'] = df['CONT_TIME'].apply(lambda x: insert_colon(str(x)))\n",
    "\n",
    "#Combine date and time to full datetime\n",
    "df['DISCOVERY_DATETIME'] = pd.to_datetime(df['DISCOVERY_DATE'].apply(str) + ' ' + df['DISCOVERY_TIME'].apply(str))\n",
    "df['CONT_DATETIME'] = pd.to_datetime(df['CONT_DATE'].apply(str) + ' ' + df['CONT_TIME'].apply(str))\n",
    "\n",
    "# Burn Time calculation in Hours\n",
    "df['BURN_TIME'] = (df['CONT_DATETIME'] - df['DISCOVERY_DATETIME']).dt.total_seconds() / 3600.0\n"
   ]
  },
  {
   "cell_type": "code",
   "execution_count": 12,
   "metadata": {},
   "outputs": [],
   "source": [
    "# df_null['MONTH'] = np.nan\n",
    "# df_null['DAY'] = np.nan\n",
    "# df_null['BURN_TIME'] = np.nan\n",
    "# print(df_null)"
   ]
  },
  {
   "cell_type": "code",
   "execution_count": 13,
   "metadata": {},
   "outputs": [],
   "source": [
    "# final_df = pd.concat([df_null, df], ignore_index=True)\n",
    "# final_df['Arson'] = final_df['STAT_CAUSE_DESCR'].apply(lambda x: arson_column(x))\n",
    "# final_df['category'] = final_df['STAT_CAUSE_DESCR'].apply(lambda x:categorize(x))\n",
    "# print(final_df)"
   ]
  },
  {
   "cell_type": "code",
   "execution_count": 14,
   "metadata": {},
   "outputs": [],
   "source": [
    "# pd.to_pickle(final_df, \"browse_df.p\")"
   ]
  },
  {
   "cell_type": "code",
   "execution_count": 15,
   "metadata": {},
   "outputs": [],
   "source": [
    "# fig = px.sunburst(\n",
    "#     data_frame=final_df,\n",
    "#     path=['Arson', 'category', 'STAT_CAUSE_DESCR'],\n",
    "#     color = 'category',\n",
    "#     maxdepth=-1\n",
    "# )\n",
    "# fig.show()"
   ]
  },
  {
   "cell_type": "code",
   "execution_count": 64,
   "metadata": {},
   "outputs": [
    {
     "name": "stdout",
     "output_type": "stream",
     "text": [
      "                  Predicted | Data  Random Forest      KNN  Decision Tree  \\\n",
      "0        Specific Cause | All Data        0.65769  0.59261        0.55403   \n",
      "1     Specific Cause | State, Date        0.56784  0.53186        0.56667   \n",
      "2     Categorized Cause | All Data        0.79012  0.73671        0.71726   \n",
      "3  Categorized Cause | State, Date        0.71362  0.68513        0.71309   \n",
      "4             Malicious | All Data        0.88573  0.86005        0.83781   \n",
      "5          Malicious | State, Date        0.85711  0.84573        0.85713   \n",
      "\n",
      "   Naïve Bayes  \n",
      "0      0.24248  \n",
      "1      0.47857  \n",
      "2      0.55206  \n",
      "3      0.61265  \n",
      "4      0.66574  \n",
      "5      0.84521  \n"
     ]
    }
   ],
   "source": [
    "# df_excel = pd.read_excel('evaluation.xlsx')\n",
    "# print(df_excel)"
   ]
  },
  {
   "cell_type": "markdown",
   "metadata": {},
   "source": [
    "# Categorical Data -> Numeric Data"
   ]
  },
  {
   "cell_type": "code",
   "execution_count": 16,
   "metadata": {},
   "outputs": [
    {
     "name": "stdout",
     "output_type": "stream",
     "text": [
      "{'Arson': 0, 'Campfire': 1, 'Children': 2, 'Debris Burning': 3, 'Equipment Use': 4, 'Fireworks': 5, 'Lightning': 6, 'Powerline': 7, 'Railroad': 8, 'Smoking': 9, 'Structure': 10}\n"
     ]
    }
   ],
   "source": [
    "# turn data into numeric\n",
    "df_num = df.copy()\n",
    "df_num = df_num[df_num['STAT_CAUSE_DESCR'] != 'Missing/Undefined']\n",
    "df_num = df_num[df_num['STAT_CAUSE_DESCR'] != 'Miscellaneous']\n",
    "encoder = preprocessing.LabelEncoder()\n",
    "df_num['STAT_CAUSE_DESCR'] = encoder.fit_transform(df_num['STAT_CAUSE_DESCR'])\n",
    "cause_mapping = {l: i for i, l in enumerate(encoder.classes_)}\n",
    "print(cause_mapping)\n",
    "df_num['STATE'] = encoder.fit_transform(df_num['STATE'])\n",
    "df_num['FIRE_SIZE_CLASS'] = encoder.fit_transform(df_num['FIRE_SIZE_CLASS'])\n",
    "df_num = df_num.drop(columns = ['DISCOVERY_DATE', 'CONT_DATE', 'DISCOVERY_TIME', 'CONT_TIME', 'DISCOVERY_DATETIME', 'CONT_DATETIME'])"
   ]
  },
  {
   "cell_type": "code",
   "execution_count": 17,
   "metadata": {
    "scrolled": false
   },
   "outputs": [],
   "source": [
    "# # Correlation Matrix\n",
    "# corr = df_num.corr()\n",
    "# fig, ax = plt.subplots(figsize=(10, 10))\n",
    "# ax.matshow(corr,cmap=plt.cm.Blues)\n",
    "# plt.xticks(range(len(corr.columns)), [\"State\", \"Year\", \"Cause\", \"Fire Size Class\", \"Fire Size\", \"Latitude\", \"Longitude\",\\\n",
    "#                                      \"Month\", \"Day\", \"Burn Time\"])\n",
    "# plt.yticks(range(len(corr.columns)), [\"State\", \"Year\", \"Cause\", \"Fire Size Class\", \"Fire Size\", \"Latitude\", \"Longitude\",\\\n",
    "#                                      \"Month\", \"Day\", \"Burn Time\"])\n",
    "# for tick in ax.get_xticklabels():\n",
    "#     tick.set_rotation(45)    \n",
    "# ax.tick_params(axis='x', colors='white')\n",
    "# ax.tick_params(axis='y', colors='white')\n",
    "# plt.show()"
   ]
  },
  {
   "cell_type": "markdown",
   "metadata": {},
   "source": [
    "# Specific Cause | All Data"
   ]
  },
  {
   "cell_type": "code",
   "execution_count": 18,
   "metadata": {},
   "outputs": [],
   "source": [
    "# Create test train split for advanced ML\n",
    "x = df_num.drop(['STAT_CAUSE_DESCR'], axis='columns').values\n",
    "y = df_num['STAT_CAUSE_DESCR'].values\n",
    "x_train, x_test, y_train, y_test = train_test_split(x,y, test_size=0.3)"
   ]
  },
  {
   "cell_type": "markdown",
   "metadata": {},
   "source": [
    "#### Models"
   ]
  },
  {
   "cell_type": "code",
   "execution_count": 19,
   "metadata": {},
   "outputs": [
    {
     "name": "stdout",
     "output_type": "stream",
     "text": [
      "0.6575352761024369\n"
     ]
    }
   ],
   "source": [
    "# Random forest for full advanced ML\n",
    "all_adv_rf = sklearn.ensemble.RandomForestClassifier(n_estimators=50)\n",
    "all_adv_rf = all_adv_rf.fit(x_train, y_train)\n",
    "print(all_adv_rf.score(x_test,y_test))\n",
    "filename = \"specific_all_rf.sav\"\n",
    "pickle.dump(all_adv_rf, open(filename, 'wb'))"
   ]
  },
  {
   "cell_type": "code",
   "execution_count": 20,
   "metadata": {},
   "outputs": [],
   "source": [
    "# y_pred = all_adv_rf.predict(x_test)\n",
    "# cm = confusion_matrix(y_true=y_test, y_pred=y_pred)\n",
    "# cmn = cm.astype('float') / cm.sum(axis=1)[:, np.newaxis]\n",
    "# fig,ax = plt.subplots(figsize=(10,10))\n",
    "# ax.matshow(cmn,cmap=plt.cm.Oranges,alpha=0.7)\n",
    "# plt.xticks(np.arange(11), ['Arson', 'Campfire', 'Children', 'Debris Burning', 'Equipment Use', 'Fireworks',\\\n",
    "#                            'Lightning', 'Powerline', 'Railroad', 'Smoking', 'Structure'], rotation=20)\n",
    "# plt.yticks(np.arange(11), ['Arson', 'Campfire', 'Children', 'Debris Burning', 'Equipment Use', 'Fireworks',\\\n",
    "#                            'Lightning', 'Powerline', 'Railroad', 'Smoking', 'Structure'])\n",
    "# for i in range(cmn.shape[0]):\n",
    "#     for j in range(cmn.shape[1]):\n",
    "#         ax.text(x=j,y=i,s=round(cmn[i,j],2),va='center',ha='center')\n",
    "# plt.xlabel('Predicted')\n",
    "# plt.ylabel('Actual')\n",
    "# ax.tick_params(axis='x', colors='white')\n",
    "# ax.tick_params(axis='y', colors='white')\n",
    "# ax.xaxis.label.set_color('white')\n",
    "# ax.yaxis.label.set_color('white')\n",
    "# plt.show()"
   ]
  },
  {
   "cell_type": "code",
   "execution_count": 21,
   "metadata": {},
   "outputs": [
    {
     "name": "stdout",
     "output_type": "stream",
     "text": [
      "0.5916661969449298\n"
     ]
    }
   ],
   "source": [
    "# KNeighbors for full advanced ML\n",
    "all_adv_knn = sklearn.neighbors.KNeighborsClassifier(n_neighbors = 5)\n",
    "all_adv_knn = all_adv_knn.fit(x_train, y_train)\n",
    "print(all_adv_knn.score(x_test,y_test))\n",
    "filename = \"specific_all_knn.sav\"\n",
    "pickle.dump(all_adv_knn, open(filename, 'wb'))"
   ]
  },
  {
   "cell_type": "code",
   "execution_count": 22,
   "metadata": {},
   "outputs": [],
   "source": [
    "# y_pred = all_adv_knn.predict(x_test)\n",
    "# cm = confusion_matrix(y_true=y_test, y_pred=y_pred)\n",
    "# cmn = cm.astype('float') / cm.sum(axis=1)[:, np.newaxis]\n",
    "# fig,ax = plt.subplots(figsize=(10,10))\n",
    "# ax.matshow(cmn,cmap=plt.cm.Oranges,alpha=0.7)\n",
    "# plt.xticks(np.arange(11), ['Arson', 'Campfire', 'Children', 'Debris Burning', 'Equipment Use', 'Fireworks',\\\n",
    "#                            'Lightning', 'Powerline', 'Railroad', 'Smoking', 'Structure'], rotation=20)\n",
    "# plt.yticks(np.arange(11), ['Arson', 'Campfire', 'Children', 'Debris Burning', 'Equipment Use', 'Fireworks',\\\n",
    "#                            'Lightning', 'Powerline', 'Railroad', 'Smoking', 'Structure'])\n",
    "# for i in range(cmn.shape[0]):\n",
    "#     for j in range(cmn.shape[1]):\n",
    "#         ax.text(x=j,y=i,s=round(cmn[i,j],2),va='center',ha='center')\n",
    "# plt.xlabel('Predicted')\n",
    "# plt.ylabel('Actual')\n",
    "# ax.tick_params(axis='x', colors='white')\n",
    "# ax.tick_params(axis='y', colors='white')\n",
    "# ax.xaxis.label.set_color('white')\n",
    "# ax.yaxis.label.set_color('white')\n",
    "# plt.show()"
   ]
  },
  {
   "cell_type": "code",
   "execution_count": 23,
   "metadata": {},
   "outputs": [
    {
     "name": "stdout",
     "output_type": "stream",
     "text": [
      "0.5551829096443267\n"
     ]
    }
   ],
   "source": [
    "# Decision Tree for full advanced ML\n",
    "all_adv_dt = sklearn.tree.DecisionTreeClassifier(random_state = 0)\n",
    "all_adv_dt = all_adv_dt.fit(x_train, y_train)\n",
    "print(all_adv_dt.score(x_test, y_test))\n",
    "filename = \"specific_all_dt.sav\"\n",
    "pickle.dump(all_adv_dt, open(filename, 'wb'))"
   ]
  },
  {
   "cell_type": "code",
   "execution_count": 24,
   "metadata": {},
   "outputs": [],
   "source": [
    "# y_pred = all_adv_dt.predict(x_test)\n",
    "# cm = confusion_matrix(y_true=y_test, y_pred=y_pred)\n",
    "# cmn = cm.astype('float') / cm.sum(axis=1)[:, np.newaxis]\n",
    "# fig,ax = plt.subplots(figsize=(10,10))\n",
    "# ax.matshow(cmn,cmap=plt.cm.Oranges,alpha=0.7)\n",
    "# plt.xticks(np.arange(11), ['Arson', 'Campfire', 'Children', 'Debris Burning', 'Equipment Use', 'Fireworks',\\\n",
    "#                            'Lightning', 'Powerline', 'Railroad', 'Smoking', 'Structure'], rotation=20)\n",
    "# plt.yticks(np.arange(11), ['Arson', 'Campfire', 'Children', 'Debris Burning', 'Equipment Use', 'Fireworks',\\\n",
    "#                            'Lightning', 'Powerline', 'Railroad', 'Smoking', 'Structure'])\n",
    "# for i in range(cmn.shape[0]):\n",
    "#     for j in range(cmn.shape[1]):\n",
    "#         ax.text(x=j,y=i,s=round(cmn[i,j],2),va='center',ha='center')\n",
    "# plt.xlabel('Predicted')\n",
    "# plt.ylabel('Actual')\n",
    "# ax.tick_params(axis='x', colors='white')\n",
    "# ax.tick_params(axis='y', colors='white')\n",
    "# ax.xaxis.label.set_color('white')\n",
    "# ax.yaxis.label.set_color('white')\n",
    "# plt.show()"
   ]
  },
  {
   "cell_type": "code",
   "execution_count": 25,
   "metadata": {},
   "outputs": [
    {
     "name": "stdout",
     "output_type": "stream",
     "text": [
      "0.25315183285421716\n"
     ]
    }
   ],
   "source": [
    "# Naive Bayes for full advanced ML\n",
    "all_adv_nb = sklearn.naive_bayes.GaussianNB()\n",
    "all_adv_nb = all_adv_nb.fit(x_train, y_train)\n",
    "print(all_adv_nb.score(x_test, y_test))\n",
    "filename = \"specific_all_nb.sav\"\n",
    "pickle.dump(all_adv_nb, open(filename, 'wb'))"
   ]
  },
  {
   "cell_type": "code",
   "execution_count": 26,
   "metadata": {},
   "outputs": [],
   "source": [
    "# y_pred = all_adv_nb.predict(x_test)\n",
    "# cm = confusion_matrix(y_true=y_test, y_pred=y_pred)\n",
    "# cmn = cm.astype('float') / cm.sum(axis=1)[:, np.newaxis]\n",
    "# fig,ax = plt.subplots(figsize=(10,10))\n",
    "# ax.matshow(cmn,cmap=plt.cm.Oranges,alpha=0.7)\n",
    "# plt.xticks(np.arange(11), ['Arson', 'Campfire', 'Children', 'Debris Burning', 'Equipment Use', 'Fireworks',\\\n",
    "#                            'Lightning', 'Powerline', 'Railroad', 'Smoking', 'Structure'], rotation=20)\n",
    "# plt.yticks(np.arange(11), ['Arson', 'Campfire', 'Children', 'Debris Burning', 'Equipment Use', 'Fireworks',\\\n",
    "#                            'Lightning', 'Powerline', 'Railroad', 'Smoking', 'Structure'])\n",
    "# for i in range(cmn.shape[0]):\n",
    "#     for j in range(cmn.shape[1]):\n",
    "#         ax.text(x=j,y=i,s=round(cmn[i,j],2),va='center',ha='center')\n",
    "# plt.xlabel('Predicted')\n",
    "# plt.ylabel('Actual')\n",
    "# ax.tick_params(axis='x', colors='white')\n",
    "# ax.tick_params(axis='y', colors='white')\n",
    "# ax.xaxis.label.set_color('white')\n",
    "# ax.yaxis.label.set_color('white')\n",
    "# plt.show()"
   ]
  },
  {
   "cell_type": "markdown",
   "metadata": {},
   "source": [
    "# Specific Cause | State, Month, Day"
   ]
  },
  {
   "cell_type": "code",
   "execution_count": 27,
   "metadata": {},
   "outputs": [
    {
     "name": "stdout",
     "output_type": "stream",
     "text": [
      "         STATE  MONTH  DAY  FIRE_YEAR  STAT_CAUSE_DESCR\n",
      "1            4      5    2       2004                 6\n",
      "2            4      5    0       2004                 3\n",
      "3            4      6    0       2004                 6\n",
      "4            4      6    0       2004                 6\n",
      "5            4      6    2       2004                 6\n",
      "...        ...    ...  ...        ...               ...\n",
      "1880443      4      9    6       2015                 4\n",
      "1880448      4      6    4       2015                 6\n",
      "1880451      4      6    5       2015                 4\n",
      "1880457      4      9    2       2015                 0\n",
      "1880458      4      8    5       2015                 6\n",
      "\n",
      "[709640 rows x 5 columns]\n"
     ]
    }
   ],
   "source": [
    "# Simple train test split\n",
    "simple_df = df_num[['STATE', 'MONTH', 'DAY', 'FIRE_YEAR', 'STAT_CAUSE_DESCR']].copy()\n",
    "x_simple = simple_df.drop(['STAT_CAUSE_DESCR'], axis='columns').values\n",
    "y_simple = simple_df['STAT_CAUSE_DESCR'].values\n",
    "x_simple_train, x_simple_test, y_simple_train, y_simple_test = train_test_split(x_simple,y_simple, test_size=0.3)\n",
    "print(simple_df)"
   ]
  },
  {
   "cell_type": "markdown",
   "metadata": {},
   "source": [
    "#### Models"
   ]
  },
  {
   "cell_type": "code",
   "execution_count": 28,
   "metadata": {},
   "outputs": [
    {
     "name": "stdout",
     "output_type": "stream",
     "text": [
      "0.567372188715405\n"
     ]
    }
   ],
   "source": [
    "# Random Forest for full simple ML\n",
    "all_basic_rf = sklearn.ensemble.RandomForestClassifier(n_estimators=50)\n",
    "all_basic_rf = all_basic_rf.fit(x_simple_train, y_simple_train)\n",
    "print(all_basic_rf.score(x_simple_test,y_simple_test))\n",
    "filename = \"specific_basic_rf.sav\"\n",
    "pickle.dump(all_basic_rf, open(filename, 'wb'))"
   ]
  },
  {
   "cell_type": "code",
   "execution_count": 29,
   "metadata": {},
   "outputs": [
    {
     "name": "stdout",
     "output_type": "stream",
     "text": [
      "0.5318659226274355\n"
     ]
    }
   ],
   "source": [
    "# KNeighbors for full simple ML\n",
    "all_basic_knn = sklearn.neighbors.KNeighborsClassifier(n_neighbors = 5)\n",
    "all_basic_knn = all_basic_knn.fit(x_simple_train, y_simple_train)\n",
    "print(all_basic_knn.score(x_simple_test,y_simple_test))\n",
    "filename = \"specific_basic_knn.sav\"\n",
    "pickle.dump(all_basic_knn, open(filename, 'wb'))"
   ]
  },
  {
   "cell_type": "code",
   "execution_count": 30,
   "metadata": {},
   "outputs": [
    {
     "name": "stdout",
     "output_type": "stream",
     "text": [
      "0.5666723033275087\n"
     ]
    }
   ],
   "source": [
    "# Decision Tree for full simple ML\n",
    "all_basic_dt = sklearn.tree.DecisionTreeClassifier(random_state = 0)\n",
    "all_basic_dt = all_basic_dt.fit(x_simple_train, y_simple_train)\n",
    "print(all_basic_dt.score(x_simple_test, y_simple_test))\n",
    "filename = \"specific_basic_dt.sav\"\n",
    "pickle.dump(all_basic_dt, open(filename, 'wb'))"
   ]
  },
  {
   "cell_type": "code",
   "execution_count": 31,
   "metadata": {},
   "outputs": [
    {
     "name": "stdout",
     "output_type": "stream",
     "text": [
      "0.47857129436521806\n"
     ]
    }
   ],
   "source": [
    "# Naive Bayes for full simple ML\n",
    "all_basic_nb = sklearn.naive_bayes.GaussianNB()\n",
    "all_basic_nb = all_basic_nb.fit(x_simple_train, y_simple_train)\n",
    "print(all_basic_nb.score(x_simple_test, y_simple_test))\n",
    "filename = \"specific_basic_nb.sav\"\n",
    "pickle.dump(all_basic_nb, open(filename, 'wb'))"
   ]
  },
  {
   "cell_type": "markdown",
   "metadata": {},
   "source": [
    "# Cause Category | All Data"
   ]
  },
  {
   "cell_type": "code",
   "execution_count": 32,
   "metadata": {},
   "outputs": [],
   "source": [
    "def reduce(cause):\n",
    "    others = ['Structure','Fireworks','Powerline','Railroad','Smoking',\\\n",
    "                  'Children','Campfire','Equipment Use','Debris Burning']\n",
    "    if cause == 'Lightning':\n",
    "        return 1\n",
    "    elif cause in others:\n",
    "        return 2\n",
    "    elif cause == 'Arson':\n",
    "        return 3\n",
    "    else:\n",
    "        return 4"
   ]
  },
  {
   "cell_type": "code",
   "execution_count": 33,
   "metadata": {},
   "outputs": [],
   "source": [
    "# turn data into numeric\n",
    "red_df = df.copy()\n",
    "red_df = red_df[red_df['STAT_CAUSE_DESCR'] != 'Missing/Undefined']\n",
    "red_df = red_df[red_df['STAT_CAUSE_DESCR'] != 'Miscellaneous']\n",
    "red_df['STAT_CAUSE_DESCR'] = red_df['STAT_CAUSE_DESCR'].apply(lambda x: reduce(x))\n",
    "encoder = preprocessing.LabelEncoder()\n",
    "red_df['STATE'] = encoder.fit_transform(red_df['STATE'])\n",
    "red_df['FIRE_SIZE_CLASS'] = encoder.fit_transform(red_df['FIRE_SIZE_CLASS'])\n",
    "red_df = red_df.drop(columns = ['DISCOVERY_DATE', 'CONT_DATE', 'DISCOVERY_TIME', 'CONT_TIME', 'DISCOVERY_DATETIME', 'CONT_DATETIME'])\n",
    "# print(red_df)"
   ]
  },
  {
   "cell_type": "code",
   "execution_count": 34,
   "metadata": {},
   "outputs": [],
   "source": [
    "x_red = red_df.drop(['STAT_CAUSE_DESCR'], axis='columns').values\n",
    "y_red = red_df['STAT_CAUSE_DESCR'].values\n",
    "x_train_red, x_test_red, y_train_red, y_test_red = train_test_split(x_red,y_red, test_size=0.3)"
   ]
  },
  {
   "cell_type": "markdown",
   "metadata": {},
   "source": [
    "#### Models"
   ]
  },
  {
   "cell_type": "code",
   "execution_count": 35,
   "metadata": {},
   "outputs": [
    {
     "name": "stdout",
     "output_type": "stream",
     "text": [
      "0.7901236307611371\n"
     ]
    }
   ],
   "source": [
    "# Random forest for reduced advanced ML\n",
    "red_adv_rf = sklearn.ensemble.RandomForestClassifier(n_estimators=50)\n",
    "red_adv_rf = red_adv_rf.fit(x_train_red, y_train_red)\n",
    "print(red_adv_rf.score(x_test_red,y_test_red))\n",
    "filename = \"group_all_rf.sav\"\n",
    "pickle.dump(red_adv_rf, open(filename, 'wb'))"
   ]
  },
  {
   "cell_type": "code",
   "execution_count": 36,
   "metadata": {},
   "outputs": [],
   "source": [
    "# y_pred = red_adv_rf.predict(x_test_red)\n",
    "# cm = confusion_matrix(y_true=y_test_red, y_pred=y_pred)\n",
    "# cmn = cm.astype('float') / cm.sum(axis=1)[:, np.newaxis]\n",
    "# fig,ax = plt.subplots(figsize=(10,10))\n",
    "# ax.matshow(cmn,cmap=plt.cm.Oranges,alpha=0.7)\n",
    "# plt.xticks(np.arange(3), ['Natural', 'Accidental', 'Malicious'])\n",
    "# plt.yticks(np.arange(3), ['Natural', 'Accidental', 'Malicious'])\n",
    "# for i in range(cmn.shape[0]):\n",
    "#     for j in range(cmn.shape[1]):\n",
    "#         ax.text(x=j,y=i,s=round(cmn[i,j],2),va='center',ha='center')\n",
    "# plt.xlabel('Predicted')\n",
    "# plt.ylabel('Actual')\n",
    "# ax.tick_params(axis='x', colors='white')\n",
    "# ax.tick_params(axis='y', colors='white')\n",
    "# ax.xaxis.label.set_color('white')\n",
    "# ax.yaxis.label.set_color('white')\n",
    "# plt.show()"
   ]
  },
  {
   "cell_type": "code",
   "execution_count": 37,
   "metadata": {},
   "outputs": [
    {
     "name": "stdout",
     "output_type": "stream",
     "text": [
      "0.736702177629972\n"
     ]
    }
   ],
   "source": [
    "# KNeighbors for reduced advanced ML\n",
    "red_adv_knn = sklearn.neighbors.KNeighborsClassifier(n_neighbors = 5)\n",
    "red_adv_knn = red_adv_knn.fit(x_train_red, y_train_red)\n",
    "print(red_adv_knn.score(x_test_red,y_test_red))\n",
    "filename = \"group_all_knn.sav\"\n",
    "pickle.dump(red_adv_knn, open(filename, 'wb'))"
   ]
  },
  {
   "cell_type": "code",
   "execution_count": 38,
   "metadata": {},
   "outputs": [],
   "source": [
    "# y_pred = red_adv_knn.predict(x_test_red)\n",
    "# cm = confusion_matrix(y_true=y_test_red, y_pred=y_pred)\n",
    "# cmn = cm.astype('float') / cm.sum(axis=1)[:, np.newaxis]\n",
    "# fig,ax = plt.subplots(figsize=(10,10))\n",
    "# ax.matshow(cmn,cmap=plt.cm.Oranges,alpha=0.7)\n",
    "# plt.xticks(np.arange(3), ['Natural', 'Accidental', 'Malicious'])\n",
    "# plt.yticks(np.arange(3), ['Natural', 'Accidental', 'Malicious'])\n",
    "# for i in range(cmn.shape[0]):\n",
    "#     for j in range(cmn.shape[1]):\n",
    "#         ax.text(x=j,y=i,s=round(cmn[i,j],2),va='center',ha='center')\n",
    "# plt.xlabel('Predicted')\n",
    "# plt.ylabel('Actual')\n",
    "# ax.tick_params(axis='x', colors='white')\n",
    "# ax.tick_params(axis='y', colors='white')\n",
    "# ax.xaxis.label.set_color('white')\n",
    "# ax.yaxis.label.set_color('white')\n",
    "# plt.show()"
   ]
  },
  {
   "cell_type": "code",
   "execution_count": 39,
   "metadata": {},
   "outputs": [
    {
     "name": "stdout",
     "output_type": "stream",
     "text": [
      "0.7172603949420363\n"
     ]
    }
   ],
   "source": [
    "# Decision Tree for reduced advanced ML\n",
    "red_adv_dt = sklearn.tree.DecisionTreeClassifier(random_state = 0)\n",
    "red_adv_dt = red_adv_dt.fit(x_train_red, y_train_red)\n",
    "print(red_adv_dt.score(x_test_red, y_test_red))\n",
    "filename = \"group_all_dt.sav\"\n",
    "pickle.dump(red_adv_dt, open(filename, 'wb'))"
   ]
  },
  {
   "cell_type": "code",
   "execution_count": 40,
   "metadata": {},
   "outputs": [],
   "source": [
    "# y_pred = red_adv_dt.predict(x_test_red)\n",
    "# cm = confusion_matrix(y_true=y_test_red, y_pred=y_pred)\n",
    "# cmn = cm.astype('float') / cm.sum(axis=1)[:, np.newaxis]\n",
    "# fig,ax = plt.subplots(figsize=(10,10))\n",
    "# ax.matshow(cmn,cmap=plt.cm.Oranges,alpha=0.7)\n",
    "# plt.xticks(np.arange(3), ['Natural', 'Accidental', 'Malicious'])\n",
    "# plt.yticks(np.arange(3), ['Natural', 'Accidental', 'Malicious'])\n",
    "# for i in range(cmn.shape[0]):\n",
    "#     for j in range(cmn.shape[1]):\n",
    "#         ax.text(x=j,y=i,s=round(cmn[i,j],2),va='center',ha='center')\n",
    "# plt.xlabel('Predicted')\n",
    "# plt.ylabel('Actual')\n",
    "# ax.tick_params(axis='x', colors='white')\n",
    "# ax.tick_params(axis='y', colors='white')\n",
    "# ax.xaxis.label.set_color('white')\n",
    "# ax.yaxis.label.set_color('white')\n",
    "# plt.show()"
   ]
  },
  {
   "cell_type": "code",
   "execution_count": 41,
   "metadata": {},
   "outputs": [
    {
     "name": "stdout",
     "output_type": "stream",
     "text": [
      "0.552068654529057\n"
     ]
    }
   ],
   "source": [
    "# Naive Bayes for reduced advanced ML\n",
    "red_adv_nb = sklearn.naive_bayes.GaussianNB()\n",
    "red_adv_nb = red_adv_nb.fit(x_train_red, y_train_red)\n",
    "print(red_adv_nb.score(x_test_red, y_test_red))\n",
    "filename = \"group_all_nb.sav\"\n",
    "pickle.dump(red_adv_nb, open(filename, 'wb'))"
   ]
  },
  {
   "cell_type": "code",
   "execution_count": 42,
   "metadata": {},
   "outputs": [],
   "source": [
    "# y_pred = red_adv_nb.predict(x_test_red)\n",
    "# cm = confusion_matrix(y_true=y_test_red, y_pred=y_pred)\n",
    "# cmn = cm.astype('float') / cm.sum(axis=1)[:, np.newaxis]\n",
    "# fig,ax = plt.subplots(figsize=(10,10))\n",
    "# ax.matshow(cmn,cmap=plt.cm.Oranges,alpha=0.7)\n",
    "# plt.xticks(np.arange(3), ['Natural', 'Accidental', 'Malicious'])\n",
    "# plt.yticks(np.arange(3), ['Natural', 'Accidental', 'Malicious'])\n",
    "# for i in range(cmn.shape[0]):\n",
    "#     for j in range(cmn.shape[1]):\n",
    "#         ax.text(x=j,y=i,s=round(cmn[i,j],2),va='center',ha='center')\n",
    "# plt.xlabel('Predicted')\n",
    "# plt.ylabel('Actual')\n",
    "# ax.tick_params(axis='x', colors='white')\n",
    "# ax.tick_params(axis='y', colors='white')\n",
    "# ax.xaxis.label.set_color('white')\n",
    "# ax.yaxis.label.set_color('white')\n",
    "# plt.show()"
   ]
  },
  {
   "cell_type": "markdown",
   "metadata": {},
   "source": [
    "# Cause Category | State, Month, Day, Year"
   ]
  },
  {
   "cell_type": "code",
   "execution_count": 43,
   "metadata": {},
   "outputs": [],
   "source": [
    "red_basic_df = red_df[['STATE', 'MONTH', 'DAY', 'FIRE_YEAR', 'STAT_CAUSE_DESCR']].copy()\n",
    "x_red_basic = red_basic_df.drop(['STAT_CAUSE_DESCR'], axis='columns').values\n",
    "y_red_basic = red_basic_df['STAT_CAUSE_DESCR'].values\n",
    "x_train_red_basic, x_test_red_basic, y_train_red_basic, y_test_red_basic = train_test_split(x_red_basic,y_red_basic, test_size=0.3)"
   ]
  },
  {
   "cell_type": "markdown",
   "metadata": {},
   "source": [
    "#### Models"
   ]
  },
  {
   "cell_type": "code",
   "execution_count": 44,
   "metadata": {},
   "outputs": [
    {
     "name": "stdout",
     "output_type": "stream",
     "text": [
      "0.7136247486988708\n"
     ]
    }
   ],
   "source": [
    "# Random forest for reduced basic ML\n",
    "red_basic_rf = sklearn.ensemble.RandomForestClassifier(n_estimators=50)\n",
    "red_basic_rf = red_basic_rf.fit(x_train_red_basic, y_train_red_basic)\n",
    "print(red_basic_rf.score(x_test_red_basic,y_test_red_basic))\n",
    "filename = \"group_basic_rf.sav\"\n",
    "pickle.dump(red_basic_rf, open(filename, 'wb'))"
   ]
  },
  {
   "cell_type": "code",
   "execution_count": 45,
   "metadata": {},
   "outputs": [
    {
     "name": "stdout",
     "output_type": "stream",
     "text": [
      "0.6851361253593371\n"
     ]
    }
   ],
   "source": [
    "# KNeighbors for reduced basic ML\n",
    "red_basic_knn = sklearn.neighbors.KNeighborsClassifier(n_neighbors = 5)\n",
    "red_basic_knn = red_basic_knn.fit(x_train_red_basic, y_train_red_basic)\n",
    "print(red_basic_knn.score(x_test_red_basic,y_test_red_basic))\n",
    "filename = \"group_basic_knn.sav\"\n",
    "pickle.dump(red_basic_knn, open(filename, 'wb'))"
   ]
  },
  {
   "cell_type": "code",
   "execution_count": 46,
   "metadata": {},
   "outputs": [
    {
     "name": "stdout",
     "output_type": "stream",
     "text": [
      "0.7130939631362381\n"
     ]
    }
   ],
   "source": [
    "# Decision Tree for reduced basic ML\n",
    "red_basic_dt = sklearn.tree.DecisionTreeClassifier(random_state = 0)\n",
    "red_basic_dt = red_basic_dt.fit(x_train_red_basic, y_train_red_basic)\n",
    "print(red_basic_dt.score(x_test_red_basic, y_test_red_basic))\n",
    "filename = \"group_basic_dt.sav\"\n",
    "pickle.dump(red_basic_dt, open(filename, 'wb'))"
   ]
  },
  {
   "cell_type": "code",
   "execution_count": 47,
   "metadata": {},
   "outputs": [
    {
     "name": "stdout",
     "output_type": "stream",
     "text": [
      "0.6126533641470793\n"
     ]
    }
   ],
   "source": [
    "# Naive Bayes for reduced advanced ML\n",
    "red_basic_nb = sklearn.naive_bayes.GaussianNB()\n",
    "red_basic_nb = red_basic_nb.fit(x_train_red_basic, y_train_red_basic)\n",
    "print(red_basic_nb.score(x_test_red_basic, y_test_red_basic))\n",
    "filename = \"group_basic_nb.sav\"\n",
    "pickle.dump(red_basic_nb, open(filename, 'wb'))"
   ]
  },
  {
   "cell_type": "markdown",
   "metadata": {},
   "source": [
    "# Arson | All Data"
   ]
  },
  {
   "cell_type": "code",
   "execution_count": 48,
   "metadata": {},
   "outputs": [],
   "source": [
    "def arson(cause):\n",
    "    if cause == 'Arson':\n",
    "        return 1\n",
    "    else:\n",
    "        return 0"
   ]
  },
  {
   "cell_type": "code",
   "execution_count": 49,
   "metadata": {},
   "outputs": [],
   "source": [
    "arson_df = df.copy()\n",
    "arson_df['STAT_CAUSE_DESCR'] = arson_df['STAT_CAUSE_DESCR'].apply(lambda x: arson(x))\n",
    "encoder = preprocessing.LabelEncoder()\n",
    "arson_df['STATE'] = encoder.fit_transform(arson_df['STATE'])\n",
    "arson_df['FIRE_SIZE_CLASS'] = encoder.fit_transform(arson_df['FIRE_SIZE_CLASS'])\n",
    "arson_df = arson_df.drop(columns = ['DISCOVERY_DATE', 'CONT_DATE', 'DISCOVERY_TIME', 'CONT_TIME', 'DISCOVERY_DATETIME', 'CONT_DATETIME'])"
   ]
  },
  {
   "cell_type": "code",
   "execution_count": 50,
   "metadata": {},
   "outputs": [],
   "source": [
    "x_arson = arson_df.drop(['STAT_CAUSE_DESCR'], axis='columns').values\n",
    "y_arson = arson_df['STAT_CAUSE_DESCR'].values\n",
    "x_train_arson, x_test_arson, y_train_arson, y_test_arson = train_test_split(x_arson,y_arson, test_size=0.3)"
   ]
  },
  {
   "cell_type": "markdown",
   "metadata": {},
   "source": [
    "#### Models"
   ]
  },
  {
   "cell_type": "code",
   "execution_count": 51,
   "metadata": {},
   "outputs": [
    {
     "name": "stdout",
     "output_type": "stream",
     "text": [
      "0.8857337174844826\n"
     ]
    }
   ],
   "source": [
    "# Random forest for arson ML\n",
    "arson_rf = sklearn.ensemble.RandomForestClassifier(n_estimators=50)\n",
    "arson_rf = arson_rf.fit(x_train_arson, y_train_arson)\n",
    "print(arson_rf.score(x_test_arson,y_test_arson))\n",
    "filename = \"arson_all_rf.sav\"\n",
    "pickle.dump(arson_rf, open(filename, 'wb'))"
   ]
  },
  {
   "cell_type": "code",
   "execution_count": 52,
   "metadata": {},
   "outputs": [],
   "source": [
    "# y_pred = arson_rf.predict(x_test_arson)\n",
    "# cm = confusion_matrix(y_true=y_test_arson, y_pred=y_pred)\n",
    "# cmn = cm.astype('float') / cm.sum(axis=1)[:, np.newaxis]\n",
    "# fig,ax = plt.subplots(figsize=(10,10))\n",
    "# ax.matshow(cmn,cmap=plt.cm.Oranges,alpha=0.7)\n",
    "# plt.xticks(np.arange(2), ['Non-Malicious', 'Malicious'])\n",
    "# plt.yticks(np.arange(2), ['Non-Malicious', 'Malicious'])\n",
    "# for i in range(cmn.shape[0]):\n",
    "#     for j in range(cmn.shape[1]):\n",
    "#         ax.text(x=j,y=i,s=round(cmn[i,j],2),va='center',ha='center')\n",
    "# plt.xlabel('Predicted')\n",
    "# plt.ylabel('Actual')\n",
    "# ax.tick_params(axis='x', colors='white')\n",
    "# ax.tick_params(axis='y', colors='white')\n",
    "# ax.xaxis.label.set_color('white')\n",
    "# ax.yaxis.label.set_color('white')\n",
    "# plt.show()"
   ]
  },
  {
   "cell_type": "code",
   "execution_count": 53,
   "metadata": {},
   "outputs": [
    {
     "name": "stdout",
     "output_type": "stream",
     "text": [
      "0.8600576226723916\n"
     ]
    }
   ],
   "source": [
    "# KNeighbors for arson ML\n",
    "arson_knn = sklearn.neighbors.KNeighborsClassifier(n_neighbors = 5)\n",
    "arson_knn = arson_knn.fit(x_train_arson, y_train_arson)\n",
    "print(arson_knn.score(x_test_arson,y_test_arson))\n",
    "filename = \"arson_all_knn.sav\"\n",
    "pickle.dump(arson_knn, open(filename, 'wb'))"
   ]
  },
  {
   "cell_type": "code",
   "execution_count": 54,
   "metadata": {},
   "outputs": [],
   "source": [
    "# y_pred = arson_knn.predict(x_test_arson)\n",
    "# cm = confusion_matrix(y_true=y_test_arson, y_pred=y_pred)\n",
    "# cmn = cm.astype('float') / cm.sum(axis=1)[:, np.newaxis]\n",
    "# fig,ax = plt.subplots(figsize=(10,10))\n",
    "# ax.matshow(cmn,cmap=plt.cm.Oranges,alpha=0.7)\n",
    "# plt.xticks(np.arange(2), ['Non-Malicious', 'Malicious'])\n",
    "# plt.yticks(np.arange(2), ['Non-Malicious', 'Malicious'])\n",
    "# for i in range(cmn.shape[0]):\n",
    "#     for j in range(cmn.shape[1]):\n",
    "#         ax.text(x=j,y=i,s=round(cmn[i,j],2),va='center',ha='center')\n",
    "# plt.xlabel('Predicted')\n",
    "# plt.ylabel('Actual')\n",
    "# ax.tick_params(axis='x', colors='white')\n",
    "# ax.tick_params(axis='y', colors='white')\n",
    "# ax.xaxis.label.set_color('white')\n",
    "# ax.yaxis.label.set_color('white')\n",
    "# plt.show()"
   ]
  },
  {
   "cell_type": "code",
   "execution_count": 55,
   "metadata": {},
   "outputs": [
    {
     "name": "stdout",
     "output_type": "stream",
     "text": [
      "0.8378082457969455\n"
     ]
    }
   ],
   "source": [
    "# Decision Tree for arson ML\n",
    "arson_dt = sklearn.tree.DecisionTreeClassifier(random_state = 0)\n",
    "arson_dt = arson_dt.fit(x_train_arson, y_train_arson)\n",
    "print(arson_dt.score(x_test_arson,y_test_arson))\n",
    "filename = \"arson_all_dt.sav\"\n",
    "pickle.dump(arson_dt, open(filename, 'wb'))"
   ]
  },
  {
   "cell_type": "code",
   "execution_count": 56,
   "metadata": {},
   "outputs": [],
   "source": [
    "# y_pred = arson_dt.predict(x_test_arson)\n",
    "# cm = confusion_matrix(y_true=y_test_arson, y_pred=y_pred)\n",
    "# cmn = cm.astype('float') / cm.sum(axis=1)[:, np.newaxis]\n",
    "# fig,ax = plt.subplots(figsize=(10,10))\n",
    "# ax.matshow(cmn,cmap=plt.cm.Oranges,alpha=0.7)\n",
    "# plt.xticks(np.arange(2), ['Non-Malicious', 'Malicious'])\n",
    "# plt.yticks(np.arange(2), ['Non-Malicious', 'Malicious'])\n",
    "# for i in range(cmn.shape[0]):\n",
    "#     for j in range(cmn.shape[1]):\n",
    "#         ax.text(x=j,y=i,s=round(cmn[i,j],2),va='center',ha='center')\n",
    "# plt.xlabel('Predicted')\n",
    "# plt.ylabel('Actual')\n",
    "# ax.tick_params(axis='x', colors='white')\n",
    "# ax.tick_params(axis='y', colors='white')\n",
    "# ax.xaxis.label.set_color('white')\n",
    "# ax.yaxis.label.set_color('white')\n",
    "# plt.show()"
   ]
  },
  {
   "cell_type": "code",
   "execution_count": 57,
   "metadata": {},
   "outputs": [
    {
     "name": "stdout",
     "output_type": "stream",
     "text": [
      "0.6657436575823141\n"
     ]
    }
   ],
   "source": [
    "# Naive Bayes for arson ML\n",
    "arson_nb = sklearn.naive_bayes.GaussianNB()\n",
    "arson_nb = arson_nb.fit(x_train_arson, y_train_arson)\n",
    "print(arson_nb.score(x_test_arson,y_test_arson))\n",
    "filename = \"arson_all_nb.sav\"\n",
    "pickle.dump(arson_nb, open(filename, 'wb'))"
   ]
  },
  {
   "cell_type": "code",
   "execution_count": 58,
   "metadata": {},
   "outputs": [],
   "source": [
    "# y_pred = arson_nb.predict(x_test_arson)\n",
    "# cm = confusion_matrix(y_true=y_test_arson, y_pred=y_pred)\n",
    "# cmn = cm.astype('float') / cm.sum(axis=1)[:, np.newaxis]\n",
    "# fig,ax = plt.subplots(figsize=(10,10))\n",
    "# ax.matshow(cmn,cmap=plt.cm.Oranges,alpha=0.7)\n",
    "# plt.xticks(np.arange(2), ['Non-Malicious', 'Malicious'])\n",
    "# plt.yticks(np.arange(2), ['Non-Malicious', 'Malicious'])\n",
    "# for i in range(cmn.shape[0]):\n",
    "#     for j in range(cmn.shape[1]):\n",
    "#         ax.text(x=j,y=i,s=round(cmn[i,j],2),va='center',ha='center')\n",
    "# plt.xlabel('Predicted')\n",
    "# plt.ylabel('Actual')\n",
    "# ax.tick_params(axis='x', colors='white')\n",
    "# ax.tick_params(axis='y', colors='white')\n",
    "# ax.xaxis.label.set_color('white')\n",
    "# ax.yaxis.label.set_color('white')\n",
    "# plt.show()"
   ]
  },
  {
   "cell_type": "markdown",
   "metadata": {},
   "source": [
    "# Arson | State, Month, Day, Year"
   ]
  },
  {
   "cell_type": "code",
   "execution_count": 59,
   "metadata": {},
   "outputs": [
    {
     "name": "stdout",
     "output_type": "stream",
     "text": [
      "         STATE  MONTH  DAY  FIRE_YEAR  STAT_CAUSE_DESCR\n",
      "0            4      2    2       2005                 0\n",
      "1            4      5    2       2004                 0\n",
      "2            4      5    0       2004                 0\n",
      "3            4      6    0       2004                 0\n",
      "4            4      6    0       2004                 0\n",
      "...        ...    ...  ...        ...               ...\n",
      "1880456      4      6    6       2015                 0\n",
      "1880457      4      9    2       2015                 1\n",
      "1880458      4      8    5       2015                 0\n",
      "1880459      4      5    3       2015                 0\n",
      "1880460      4      9    5       2015                 0\n",
      "\n",
      "[892007 rows x 5 columns]\n"
     ]
    }
   ],
   "source": [
    "arson_df_basic = arson_df[['STATE', 'MONTH', 'DAY', 'FIRE_YEAR', 'STAT_CAUSE_DESCR']].copy()\n",
    "x_arson_basic = arson_df_basic.drop(['STAT_CAUSE_DESCR'], axis='columns').values\n",
    "y_arson_basic = arson_df_basic['STAT_CAUSE_DESCR'].values\n",
    "x_train_arson_basic, x_test_arson_basic, y_train_arson_basic, y_test_arson_basic = train_test_split(x_arson_basic,y_arson_basic, test_size=0.3)\n",
    "print(arson_df_basic)"
   ]
  },
  {
   "cell_type": "code",
   "execution_count": 60,
   "metadata": {},
   "outputs": [
    {
     "name": "stdout",
     "output_type": "stream",
     "text": [
      "0.857109225232901\n"
     ]
    }
   ],
   "source": [
    "# Random forest for basic arson ML\n",
    "arson_basic_rf = sklearn.ensemble.RandomForestClassifier(n_estimators=50)\n",
    "arson_basic_rf = arson_basic_rf.fit(x_train_arson_basic, y_train_arson_basic)\n",
    "print(arson_basic_rf.score(x_test_arson_basic,y_test_arson_basic))\n",
    "filename = \"arson_basic_rf.sav\"\n",
    "pickle.dump(arson_basic_rf, open(filename, 'wb'))"
   ]
  },
  {
   "cell_type": "code",
   "execution_count": 61,
   "metadata": {},
   "outputs": [
    {
     "name": "stdout",
     "output_type": "stream",
     "text": [
      "0.8457304290310647\n"
     ]
    }
   ],
   "source": [
    "# KNeighbors for basic arson ML\n",
    "arson_basic_knn = sklearn.neighbors.KNeighborsClassifier(n_neighbors = 5)\n",
    "arson_basic_knn = arson_basic_knn.fit(x_train_arson_basic, y_train_arson_basic)\n",
    "print(arson_basic_knn.score(x_test_arson_basic,y_test_arson_basic))\n",
    "filename = \"arson_basic_knn.sav\"\n",
    "pickle.dump(arson_basic_knn, open(filename, 'wb'))"
   ]
  },
  {
   "cell_type": "code",
   "execution_count": 62,
   "metadata": {},
   "outputs": [
    {
     "name": "stdout",
     "output_type": "stream",
     "text": [
      "0.8571391202639731\n"
     ]
    }
   ],
   "source": [
    "# Decision Tree for basic arson ML\n",
    "arson_basic_dt = sklearn.tree.DecisionTreeClassifier(random_state = 0)\n",
    "arson_basic_dt = arson_basic_dt.fit(x_train_arson_basic, y_train_arson_basic)\n",
    "print(arson_basic_dt.score(x_test_arson_basic,y_test_arson_basic))\n",
    "filename = \"arson_basic_dt.sav\"\n",
    "pickle.dump(arson_basic_dt, open(filename, 'wb'))"
   ]
  },
  {
   "cell_type": "code",
   "execution_count": 63,
   "metadata": {},
   "outputs": [
    {
     "name": "stdout",
     "output_type": "stream",
     "text": [
      "0.8452147397450701\n"
     ]
    }
   ],
   "source": [
    "# Naive Bayes for basic arson ML\n",
    "arson_basic_nb = sklearn.naive_bayes.GaussianNB()\n",
    "arson_basic_nb = arson_basic_nb.fit(x_train_arson_basic, y_train_arson_basic)\n",
    "print(arson_basic_nb.score(x_test_arson_basic,y_test_arson_basic))\n",
    "filename = \"arson_basic_nb.sav\"\n",
    "pickle.dump(arson_basic_nb, open(filename, 'wb'))"
   ]
  }
 ],
 "metadata": {
  "kernelspec": {
   "display_name": "Python 3",
   "language": "python",
   "name": "python3"
  },
  "language_info": {
   "codemirror_mode": {
    "name": "ipython",
    "version": 3
   },
   "file_extension": ".py",
   "mimetype": "text/x-python",
   "name": "python",
   "nbconvert_exporter": "python",
   "pygments_lexer": "ipython3",
   "version": "3.8.5"
  }
 },
 "nbformat": 4,
 "nbformat_minor": 4
}
